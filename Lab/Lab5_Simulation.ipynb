{
  "nbformat": 4,
  "nbformat_minor": 0,
  "metadata": {
    "colab": {
      "name": "Copy of JSC270_Lab5_Simulation_Solutions",
      "provenance": [],
      "collapsed_sections": [
        "-cXPN8bRuTDF",
        "tEG-gJcp6Xb9",
        "zTISKLhR_cGn",
        "SkYgN6qcALK-",
        "oTDazPhotK1R",
        "YYTqY07JCw4l",
        "IoU1vDbKHbko",
        "niVqtcZpcSFq",
        "EB9Pf9Z4viNq",
        "KpJ53akAvPky"
      ],
      "include_colab_link": true
    },
    "kernelspec": {
      "name": "python3",
      "display_name": "Python 3"
    }
  },
  "cells": [
    {
      "cell_type": "markdown",
      "metadata": {
        "id": "view-in-github",
        "colab_type": "text"
      },
      "source": [
        "<a href=\"https://colab.research.google.com/github/jsAiyaya/JSC270_Data_Science_1/blob/main/Lab5_Simulation_Solutions.ipynb\" target=\"_parent\"><img src=\"https://colab.research.google.com/assets/colab-badge.svg\" alt=\"Open In Colab\"/></a>"
      ]
    },
    {
      "cell_type": "markdown",
      "metadata": {
        "id": "KIzMheleL9Nx"
      },
      "source": [
        "#Lab 5: Simulation"
      ]
    },
    {
      "cell_type": "markdown",
      "metadata": {
        "id": "JqX-cRu9KW_k"
      },
      "source": [
        "##Simulating Coin Tosses"
      ]
    },
    {
      "cell_type": "markdown",
      "metadata": {
        "id": "0bZiSh-JceEx"
      },
      "source": [
        "##### Let's start by building a coin flip simulator! \n",
        "\n",
        "##### We'll define a function that is a \"coin flipper\", taking the argument:\n",
        ">##### heads_prob: the probability of heads\n",
        "##### and returns:\n",
        ">##### 1 if heads, 0 if tails"
      ]
    },
    {
      "cell_type": "code",
      "metadata": {
        "id": "oXmr_G53Jko1"
      },
      "source": [
        "## import bernoulli class from scipy.stats library\n",
        "from scipy.stats import bernoulli\n",
        "\n",
        "## define function\n",
        "def coin_flipper(heads_prob):\n",
        "\n",
        "  heads = bernoulli.rvs(p=heads_prob, size=1)\n",
        "\n",
        "  return heads[0] ## adding the [0] pulls the value out of the array"
      ],
      "execution_count": null,
      "outputs": []
    },
    {
      "cell_type": "markdown",
      "metadata": {
        "id": "qO3H1yyKt-r8"
      },
      "source": [
        "### Discussion Question 1\n",
        "####Run a few trials of *coin_flipper*.  Are you seeing what you expect? "
      ]
    },
    {
      "cell_type": "markdown",
      "source": [
        ""
      ],
      "metadata": {
        "id": "aF6tayMLcS_3"
      }
    },
    {
      "cell_type": "code",
      "metadata": {
        "id": "uYQOhXUVXpWA"
      },
      "source": [
        "# One way to check is to run the simulator many times and see if the percentage \n",
        "# of heads is close to the specified heads_prob\n",
        "\n",
        "# When running simulations it is important to set the seed of the random number\n",
        "# generator so your results can be replicated\n",
        "# Make sure to do this in Assignment 3!!\n",
        "import numpy as np\n",
        "np.random.seed(2022)\n",
        "\n",
        "my_heads_prob = 0.9\n",
        "my_result = [coin_flipper(my_heads_prob) for n in range(1,100)]"
      ],
      "execution_count": null,
      "outputs": []
    },
    {
      "cell_type": "code",
      "source": [
        "sum(my_result)/len(my_result)"
      ],
      "metadata": {
        "colab": {
          "base_uri": "https://localhost:8080/"
        },
        "id": "fVRsfZVl4yml",
        "outputId": "9e022a9b-6932-4698-ca23-3cbf1bc9c679"
      },
      "execution_count": null,
      "outputs": [
        {
          "output_type": "execute_result",
          "data": {
            "text/plain": [
              "0.898989898989899"
            ]
          },
          "metadata": {},
          "execution_count": 4
        }
      ]
    },
    {
      "cell_type": "markdown",
      "source": [
        "### Discussion Question 2\n",
        "\n",
        "#### Before moving on to the next exercise, can anyone remember the difference between a binomial and a bernoulli distribution?"
      ],
      "metadata": {
        "id": "uTro77-CfJYb"
      }
    },
    {
      "cell_type": "code",
      "source": [
        "# A bernoulli distribution describes the behavior a random variable with two possible \n",
        "# outcomes, one occuring with probability p and the other occuring \n",
        "# with probability (1-p).\n",
        "# For instance, we can describe the behavior of a coin toss with a bernoulli distribution. \n",
        "\n",
        "# A binomial distribution describes the behavior of a sequence of random variables\n",
        "# where each element of the sequence has with two possible outcomes, \n",
        "# one occuring with probability p and the other occuring with probability (1-p).\n",
        "# For instance, we can discribe the behavior of n coin tosses with a binomial(n, p) distribution.\n",
        "\n",
        "\n",
        "# You can read more above the distributions on wikipedia:\n",
        "# https://en.wikipedia.org/wiki/Bernoulli_distribution\n",
        "#https://en.wikipedia.org/wiki/Binomial_distribution"
      ],
      "metadata": {
        "id": "29YBirMzfZxK"
      },
      "execution_count": null,
      "outputs": []
    },
    {
      "cell_type": "markdown",
      "metadata": {
        "id": "JgO0vgoLNOYx"
      },
      "source": [
        "### Exercise 1\n",
        "\n",
        "##### Now define two \"heads_counter\" functions that take arguments:\n",
        ">##### heads_prob, the probability of heads\n",
        ">##### n_flips, the number of flips\n",
        "##### and each return:\n",
        ">##### k, the number of heads\n",
        "\n",
        "##### Make one function using your *coin_flipper* function from above and the other function using a *binomial random value generator*. \n",
        "\n",
        "##### Check out the [scipy documentation](https://docs.scipy.org/doc/scipy/reference/stats.html) to see how you can generate realizations from a binomial distribution.  This site also gives a complete list of available distributions in the stats module.\n",
        "\n",
        "##### Compare the outputs of your two functions for a 50 flips with a probability of heads equal to 0.5."
      ]
    },
    {
      "cell_type": "code",
      "metadata": {
        "id": "c9Jokc_YYTaS"
      },
      "source": [
        "### Define heads_counter1 using coin_flipper which relies on \n",
        "### on the bernoulli random variable generator.\n",
        "\n",
        "def heads_counter1(heads_prob, n_flips):\n",
        "\n",
        "  heads_count = 0\n",
        "\n",
        "  for draw in range(n_flips):\n",
        "    heads_count += coin_flipper(heads_prob=heads_prob)\n",
        "\n",
        "  return heads_count"
      ],
      "execution_count": null,
      "outputs": []
    },
    {
      "cell_type": "code",
      "metadata": {
        "id": "BxK0FakIZhhC"
      },
      "source": [
        "### Define heads_counter2 using binomial random variable generator.\n",
        "\n",
        "from scipy.stats import binom\n",
        "# import numpy as np - note you could've also used numpy!\n",
        "\n",
        "def heads_counter2(heads_prob, n_flips):\n",
        "\n",
        "  heads_count = binom.rvs(n=n_flips, p=heads_prob, size=1)\n",
        "  # heads_count = np.random.binomial(n=n_flips,p=heads_prob)\n",
        "\n",
        "  return heads_count[0]"
      ],
      "execution_count": null,
      "outputs": []
    },
    {
      "cell_type": "code",
      "metadata": {
        "colab": {
          "base_uri": "https://localhost:8080/"
        },
        "id": "2KnCNPJ_zovL",
        "outputId": "e91aa644-abdd-4628-d5c4-c21575ca6874"
      },
      "source": [
        "### Compare output from each function\n",
        "\n",
        "print(heads_counter1(0.5,50))\n",
        "print(heads_counter2(0.5,50))\n"
      ],
      "execution_count": null,
      "outputs": [
        {
          "output_type": "stream",
          "name": "stdout",
          "text": [
            "21\n",
            "27\n"
          ]
        }
      ]
    },
    {
      "cell_type": "markdown",
      "metadata": {
        "id": "rmkWaRSR4z9h"
      },
      "source": [
        "#### Suppose we want to test if the two *heads_counter* functions output systematically different counts.\n",
        "\n",
        "### Discussion Question 3: How should we go about doing this? "
      ]
    },
    {
      "cell_type": "code",
      "source": [
        ""
      ],
      "metadata": {
        "id": "9OXIhpbkzeVR"
      },
      "execution_count": null,
      "outputs": []
    },
    {
      "cell_type": "markdown",
      "metadata": {
        "id": "-cXPN8bRuTDF"
      },
      "source": [
        "#### Let's go through it together. First, define a function *heads_diff* which draw samples from each of these heads_counter functions and compares them, taking as arguments: \n",
        ">##### rs, the number of times to sample from each function\n",
        ">##### n, the number of flips \n",
        ">##### p, the probability of heads\n",
        "\n",
        "##### and returns: \n",
        ">##### a list output from *heads_counter1* \n",
        ">##### a list output from *heads_counter2*"
      ]
    },
    {
      "cell_type": "code",
      "metadata": {
        "id": "1Jwwl2vV487Q"
      },
      "source": [
        "resample_size = 1000\n",
        "n_flips = 50\n",
        "heads_p = 0.5\n",
        "\n",
        "def heads_diff(rs, n, p):\n",
        "\n",
        "  hc1 = [heads_counter1(p, n) for i in range(rs)]\n",
        "  hc2 = [heads_counter2(p, n) for i in range(rs)]\n",
        "\n",
        "  return hc1, hc2\n",
        "\n",
        "h1,h2 = heads_diff(rs=resample_size,n=n_flips,p=heads_p)"
      ],
      "execution_count": null,
      "outputs": []
    },
    {
      "cell_type": "markdown",
      "metadata": {
        "id": "tEG-gJcp6Xb9"
      },
      "source": [
        "####Next, plot your data and test your hypothesis"
      ]
    },
    {
      "cell_type": "code",
      "metadata": {
        "colab": {
          "base_uri": "https://localhost:8080/",
          "height": 266
        },
        "id": "IFxSS5JW5zpj",
        "outputId": "b0262c04-5002-4257-ff80-bc71789e2875"
      },
      "source": [
        "### plot\n",
        "import matplotlib.pyplot as plt\n",
        "\n",
        "plt.hist(h1, alpha=0.5, label=\"BernSum\")\n",
        "plt.hist(h2, alpha=0.5, label=\"Binomial\")\n",
        "plt.legend(loc='upper right')\n",
        "plt.show()"
      ],
      "execution_count": null,
      "outputs": [
        {
          "output_type": "display_data",
          "data": {
            "image/png": "[encoded data removed]",
            "text/plain": [
              "<Figure size 432x288 with 1 Axes>"
            ]
          },
          "metadata": {
            "needs_background": "light"
          }
        }
      ]
    },
    {
      "cell_type": "code",
      "metadata": {
        "colab": {
          "base_uri": "https://localhost:8080/"
        },
        "id": "ScdK3Ufc9ln3",
        "outputId": "f9a54818-bb2e-4549-83db-90f8c076358b"
      },
      "source": [
        "## Non-parametric, Wilcoxon test\n",
        "\n",
        "from scipy.stats import wilcoxon\n",
        "\n",
        "wilcoxon(h1,h2)\n"
      ],
      "execution_count": null,
      "outputs": [
        {
          "output_type": "execute_result",
          "data": {
            "text/plain": [
              "WilcoxonResult(statistic=216840.5, pvalue=0.9919634236160005)"
            ]
          },
          "metadata": {},
          "execution_count": 11
        }
      ]
    },
    {
      "cell_type": "code",
      "metadata": {
        "colab": {
          "base_uri": "https://localhost:8080/"
        },
        "id": "jq9CFXMA_CnM",
        "outputId": "27ea255a-c3e6-4942-ab18-8528c7bf8a08"
      },
      "source": [
        "## parametric independent samples t-test\n",
        "\n",
        "from scipy.stats import ttest_ind\n",
        "\n",
        "ttest_ind(h1,h2)"
      ],
      "execution_count": null,
      "outputs": [
        {
          "output_type": "execute_result",
          "data": {
            "text/plain": [
              "Ttest_indResult(statistic=-0.04964329785914643, pvalue=0.9604116043898603)"
            ]
          },
          "metadata": {},
          "execution_count": 12
        }
      ]
    },
    {
      "cell_type": "markdown",
      "metadata": {
        "id": "zTISKLhR_cGn"
      },
      "source": [
        "##Law of large numbers"
      ]
    },
    {
      "cell_type": "markdown",
      "metadata": {
        "id": "Q7knr72X_011"
      },
      "source": [
        "#### The (Strong) Law of Large Numbers (LLN) states that the empirical average gets closer and closer to the population average as the sample size increases.\n",
        "\n",
        "\n",
        "#### Let's keep using our functions from above, but consider the case in which we are taking more and more samples. \n",
        "\n",
        "## Discussion Question 4: What do we expect to happen to the mean and variance of our data as we collect more samples? "
      ]
    },
    {
      "cell_type": "code",
      "source": [
        "# Intuitively, we can imagine that as our sample becomes larger and larger, it becomes a more accurate\n",
        "# representation of the population. So, we would expect the empirical mean and variance to both \n",
        "# get closer to the population values. \n",
        "\n",
        "# Another possible explanation applying similar thinking to the LLN.\n",
        "# The empirical mean and variance are both averages so would expect \n",
        "# them to converge to their population value as the sample size increases."
      ],
      "metadata": {
        "id": "RR20Rs6gdWuP"
      },
      "execution_count": null,
      "outputs": []
    },
    {
      "cell_type": "markdown",
      "metadata": {
        "id": "SkYgN6qcALK-"
      },
      "source": [
        "####Choose one of the *head_counter* functions and simulate 10, 100, 1000, and 10000 samples when we make 100 coin flips with probability of flipping heads=0.5"
      ]
    },
    {
      "cell_type": "code",
      "metadata": {
        "id": "mVNg3QMXAnPB"
      },
      "source": [
        "## sample data \n",
        "s10 = [heads_counter2(0.5, 100) for i in range(10)]\n",
        "s50 = [heads_counter2(0.5, 100) for i in range(100)]\n",
        "s100 = [heads_counter2(0.5, 100) for i in range(1000)]\n",
        "s1000 = [heads_counter2(0.5, 100) for i in range(10000)]"
      ],
      "execution_count": null,
      "outputs": []
    },
    {
      "cell_type": "markdown",
      "metadata": {
        "id": "oTDazPhotK1R"
      },
      "source": [
        "#### Let's compute the population mean and variance as well as the empirical/sample mean and variance for each sample and plot the distribution. "
      ]
    },
    {
      "cell_type": "code",
      "metadata": {
        "colab": {
          "base_uri": "https://localhost:8080/"
        },
        "id": "XAdxvwjc7Zdf",
        "outputId": "132df1b5-3a72-416d-811f-b0092edd4e06"
      },
      "source": [
        "## population mean = n*p ; population var = np(1-p)\n",
        "\n",
        "print(\"Population mean: \" + str(.5*100))\n",
        "\n",
        "print(\"Population var: \"  + str(0.5*0.5*100))\n"
      ],
      "execution_count": null,
      "outputs": [
        {
          "output_type": "stream",
          "name": "stdout",
          "text": [
            "Population mean: 50.0\n",
            "Population var: 25.0\n"
          ]
        }
      ]
    },
    {
      "cell_type": "code",
      "metadata": {
        "colab": {
          "base_uri": "https://localhost:8080/",
          "height": 729
        },
        "id": "9DZOXteABFoy",
        "outputId": "5854ac99-0fb9-43c4-8530-6fd88d53163a"
      },
      "source": [
        "## plot distributions\n",
        "import numpy as np\n",
        "fig, axs = plt.subplots(2, 2,figsize=(10,10))\n",
        "axs[0, 0].hist(s10)\n",
        "axs[0, 0].set_title('samples=10, mean='+str(np.mean(s10))+', var='+str(np.round(np.var(s10),decimals=1)))\n",
        "axs[0, 1].hist(s50)\n",
        "axs[0, 1].set_title('samples=50, mean='+str(np.mean(s50))+', var='+str(np.round(np.var(s50),decimals=1)))\n",
        "axs[1, 0].hist(s100)\n",
        "axs[1, 0].set_title('samples=100, mean='+str(np.mean(s100))+', var='+str(np.round(np.var(s100),decimals=1)))\n",
        "axs[1, 1].hist(s1000)\n",
        "axs[1, 1].set_title('samples=1000, mean='+str(np.mean(s1000))+', var='+str(np.round(np.var(s1000),decimals=1)))\n",
        "\n",
        "for ax in axs.flat:\n",
        "    ax.set(xlabel='sample values', ylabel='count')\n",
        "\n",
        "fig.tight_layout()"
      ],
      "execution_count": null,
      "outputs": [
        {
          "output_type": "display_data",
          "data": {
            "image/png": "[encoded data removed]",
            "text/plain": [
              "<Figure size 720x720 with 4 Axes>"
            ]
          },
          "metadata": {
            "needs_background": "light"
          }
        }
      ]
    },
    {
      "cell_type": "markdown",
      "source": [
        "### Discussion Question 5: Are we seeing what we expect here? Is the behavior consistent with the LLN?"
      ],
      "metadata": {
        "id": "Ct1J-Ak-ibiY"
      }
    },
    {
      "cell_type": "code",
      "source": [
        "# Yes, the as the sample size increases the empirical mean and variance are getting closer to their true (population) values."
      ],
      "metadata": {
        "id": "97_zIiG5ia2u"
      },
      "execution_count": null,
      "outputs": []
    },
    {
      "cell_type": "markdown",
      "metadata": {
        "id": "83wICAOYChX8"
      },
      "source": [
        "## Investigating the behavior of the empirical/sample mean"
      ]
    },
    {
      "cell_type": "markdown",
      "metadata": {
        "id": "YYTqY07JCw4l"
      },
      "source": [
        "#### Next, let's consider simulating from the distribution this *estimator*.\n",
        "\n",
        "#### Specifically, we'll consider estimating the population mean $\\mu$ with $\\bar{X}$ based on a random sample from a binomial distribution.  \n",
        "\n",
        "#### It can be shown that for random sample of size $n$ from a distribution with standard deviation $\\sigma$, the standard error (SE) of $\\bar{X}$ is\n",
        "\n",
        ">#### $SE[\\bar{X}] = \\frac{SD[X_1]}{\\sqrt{n}} $\n",
        "\n",
        "#### This formula is true not only for binomial random variables, but for any random variables from a distribution with finite variance.\n",
        "\n",
        "#### Let's use simulation to confirm this formula in the binomial case. "
      ]
    },
    {
      "cell_type": "markdown",
      "source": [
        "### Exercise 2\n",
        "\n",
        "####First, define a function called *sample_estimate* which takes the arguments\n",
        "\n",
        ">##### n_draws, sample size\n",
        ">##### n_flips, n parameter for the binomial distribution (the number of flips)\n",
        ">##### p_heads, the probability of the coin landing on heads\n",
        "\n",
        "#### and returns\n",
        ">##### the mean from the n_draws\n",
        "\n",
        "Run your function for 1000 datasets containing a sequence of 10 flips with an underlying probability of heads of 1/2."
      ],
      "metadata": {
        "id": "h0xLc4K1BUfH"
      }
    },
    {
      "cell_type": "code",
      "metadata": {
        "colab": {
          "base_uri": "https://localhost:8080/"
        },
        "id": "vx8PFgjnGd2h",
        "outputId": "f954e141-1263-4a23-a864-02d12b330762"
      },
      "source": [
        "### sample_estimate function: \n",
        "def sample_estimate(n_draws, n_flips, p_heads):\n",
        "  return np.mean([heads_counter2(p_heads, n_flips=n_flips) for i in range(n_draws)])\n",
        "\n",
        "sample_estimate(n_draws=1000,n_flips=10,p_heads=0.5)"
      ],
      "execution_count": null,
      "outputs": [
        {
          "output_type": "execute_result",
          "data": {
            "text/plain": [
              "5.03"
            ]
          },
          "metadata": {},
          "execution_count": 18
        }
      ]
    },
    {
      "cell_type": "markdown",
      "metadata": {
        "id": "IoU1vDbKHbko"
      },
      "source": [
        "### Exercise 3\n",
        "\n",
        "####Next define a function *estimator_sampler* that samples over these sample estimates, taking the same arguments plus n_samples, the number of sample estimates to compute and returns: \n",
        ">##### a tuple: mean, standard error\n",
        "\n",
        "#### Use your function to obtain mean and standard error estimates from 1000 simulated datasets containing 10 sequences of 10 flips with an underlying probability of heads of 1/2. \n",
        "\n",
        "####Compare the output containing your estimates to the population mean and the standard error formula stated above."
      ]
    },
    {
      "cell_type": "code",
      "metadata": {
        "id": "jWjHU75TH-69"
      },
      "source": [
        "### estimator_sampler function:\n",
        "def estimator_sampler(n_d,n_f,p_h,n_s):\n",
        "  estimates = [sample_estimate(n_d,n_f,p_h) for i in range(n_s)]\n",
        "  return estimates, np.mean(estimates), np.sqrt(np.var(estimates))"
      ],
      "execution_count": null,
      "outputs": []
    },
    {
      "cell_type": "code",
      "source": [
        "heads_p = 0.5\n",
        "n_flips = 10 \n",
        "n_draws_in_sample = 10 ### make this reflect your *actual* data\n",
        "n_samples = 10000 ### run as many of these as possible to make your estimate accurate\n",
        "\n",
        "all_est_mean, est_mean, est_se = estimator_sampler(n_draws_in_sample, n_flips, heads_p, n_samples)\n",
        "\n",
        "a_mean = np.round(n_flips*heads_p,decimals=3)\n",
        "a_se = np.sqrt(np.round((n_flips*heads_p*(1-heads_p))/n_draws_in_sample,decimals=3))"
      ],
      "metadata": {
        "id": "mppKiDlJ-jgB"
      },
      "execution_count": null,
      "outputs": []
    },
    {
      "cell_type": "code",
      "source": [
        "print(\"Validating the SE formula using simulation for the binomial.\")\n",
        "print(\"Estimated mean: \" + str(np.round(est_mean,decimals=3)) + \", Estimated SE: \" + str(np.round(est_se,decimals=3)))\n",
        "print(\"True (Population) mean: \" + str(a_mean) + \", True SE: \" + str(a_se))"
      ],
      "metadata": {
        "colab": {
          "base_uri": "https://localhost:8080/"
        },
        "id": "hwDP4ZB4EDS-",
        "outputId": "477dfcd5-db95-419a-b8ed-4fd282335659"
      },
      "execution_count": null,
      "outputs": [
        {
          "output_type": "stream",
          "name": "stdout",
          "text": [
            "Validating the SE formula using simulation for the binomial.\n",
            "Estimated mean: 5.007, Estimated SE: 0.503\n",
            "True (Population) mean: 5.0, True SE: 0.5\n"
          ]
        }
      ]
    },
    {
      "cell_type": "markdown",
      "source": [
        "## Investigating the behavior of the sample median"
      ],
      "metadata": {
        "id": "rnHmVjbOm43o"
      }
    },
    {
      "cell_type": "markdown",
      "metadata": {
        "id": "8lImtk7kNJOs"
      },
      "source": [
        "### Exercise 4\n",
        "\n",
        "#### Now let's consider the sample median.\n",
        "\n",
        "#### Create a *median_estimate* function and a sampler function like you did in the previous exercise for the mean.\n",
        "\n",
        "#### Use your function to obtain median estimates from 1000 simulated datasets containing 10 sequences of 10 flips with an underlying probability of heads of 1/2. \n",
        "\n",
        "#### Plot the distribution of your estimates.\n"
      ]
    },
    {
      "cell_type": "code",
      "source": [
        "### defining median_estimate function\n",
        "def median_estimate(n_draws, n_flips, p_heads):\n",
        "  return np.median([heads_counter2(p_heads, n_flips=n_flips) for i in range(n_draws)])\n",
        "\n",
        "### defining median sampler\n",
        "def median_sampler(n_d,n_f,p_h,n_s):\n",
        "  estimates = [median_estimate(n_d,n_f,p_h) for i in range(n_s)]\n",
        "  return estimates"
      ],
      "metadata": {
        "id": "BzUKzFTFa8Cr"
      },
      "execution_count": null,
      "outputs": []
    },
    {
      "cell_type": "code",
      "metadata": {
        "colab": {
          "base_uri": "https://localhost:8080/",
          "height": 263
        },
        "id": "WTOiNkjmOJ8A",
        "outputId": "aebaf41c-220c-459a-d169-5d804c28b2a5"
      },
      "source": [
        "### try different estimates\n",
        "heads_p = 0.5\n",
        "n_flips = 10 \n",
        "n_draws_in_sample = 100 ### make this reflect your *actual* data\n",
        "n_samples = 1000 ### run as many of these as possible to make your estimate accurate\n",
        "\n",
        "est = median_sampler(n_draws_in_sample, n_flips, heads_p, n_samples)\n",
        "\n",
        "## Plot the 0.025 and -.975 quntiles\n",
        "num_ucl = np.quantile(est,0.975)\n",
        "num_lcl = np.quantile(est,0.025)\n",
        "\n",
        "plt.hist(est, alpha=0.5, label=\"BernSum\")\n",
        "plt.axvline(num_ucl, color='k', linestyle='dotted', linewidth=1)\n",
        "plt.axvline(num_lcl, color='k', linestyle='dotted', linewidth=1)\n",
        "\n",
        "plt.show()"
      ],
      "execution_count": null,
      "outputs": [
        {
          "output_type": "display_data",
          "data": {
            "image/png": "[encoded data removed]",
            "text/plain": [
              "<Figure size 432x288 with 1 Axes>"
            ]
          },
          "metadata": {
            "needs_background": "light"
          }
        }
      ]
    },
    {
      "cell_type": "markdown",
      "metadata": {
        "id": "WBYEPn0zDIYJ"
      },
      "source": [
        "## The Central Limit Theorem (CLT)"
      ]
    },
    {
      "cell_type": "markdown",
      "metadata": {
        "id": "LQa-SAFhcNQX"
      },
      "source": [
        "###Take 1: Resampling from an arbitrary population"
      ]
    },
    {
      "cell_type": "markdown",
      "metadata": {
        "id": "fhH2PutUUupA"
      },
      "source": [
        "#####The first take on the CLT we will take is sampling from a population. \n",
        "\n",
        "##### Consider an iid sample of size $n$ from a distribution with mean $\\mu$ and variance $\\sigma^2$. The CLT states that the distribution of $\\bar{X}$ is approximately (ie. when $n$ is large) as the sample  normal with mean $\\mu$ and variance $\\sigma/n$.\n",
        "\n",
        "## Discussion Question 6: Have we already seen the CLT in this lab?"
      ]
    },
    {
      "cell_type": "code",
      "source": [
        "# Yes, we saw the CLT when investigating the distribution of heads earlier in lab.\n",
        "\n",
        "# We also investigated the behavuor of the empirical mean when studying the standard error formula\n",
        "# Note though that the sample size was only 10."
      ],
      "metadata": {
        "id": "PY9fNUFFp4zG"
      },
      "execution_count": null,
      "outputs": []
    },
    {
      "cell_type": "code",
      "source": [
        "from scipy.stats import norm\n",
        "plt.hist(all_est_mean, alpha=0.5, density = True,\n",
        "         label=\"Distribution of the Empirical Mean\")\n",
        "\n",
        "# Plot an overlaying histogram \n",
        "xmin, xmax = plt.xlim()\n",
        "x = np.linspace(xmin, xmax, 100)\n",
        "p = norm.pdf(x, a_mean, a_se)\n",
        "  \n",
        "plt.plot(x, p, 'k', linewidth=2)\n",
        "\n",
        "plt.show()"
      ],
      "metadata": {
        "colab": {
          "base_uri": "https://localhost:8080/",
          "height": 263
        },
        "id": "PFryzm1iqJ2-",
        "outputId": "ef25ed3d-6079-4072-958e-0db40257ca92"
      },
      "execution_count": null,
      "outputs": [
        {
          "output_type": "display_data",
          "data": {
            "image/png": "[encoded data removed]",
            "text/plain": [
              "<Figure size 432x288 with 1 Axes>"
            ]
          },
          "metadata": {
            "needs_background": "light"
          }
        }
      ]
    },
    {
      "cell_type": "markdown",
      "metadata": {
        "id": "0nJzcAj9Y_H2"
      },
      "source": [
        "####Let's create an arbitrary distribution sampler by mixing different distributions"
      ]
    },
    {
      "cell_type": "code",
      "metadata": {
        "id": "gaoie9CEZITe"
      },
      "source": [
        "#### definining my_dist_sampler:\n",
        "def my_dist():\n",
        "  x = np.random.beta(3,10) + np.random.poisson(2) + np.random.binomial(10,0.2)\n",
        "  return x\n",
        "\n",
        "def my_dist_sampler(n):\n",
        "  my_sample = [my_dist() for i in range(n)]\n",
        "  return my_sample"
      ],
      "execution_count": null,
      "outputs": []
    },
    {
      "cell_type": "markdown",
      "metadata": {
        "id": "nb-IMB0gaxs9"
      },
      "source": [
        "#### Plot the distribution of a sample from your arbitrary distribution"
      ]
    },
    {
      "cell_type": "code",
      "metadata": {
        "colab": {
          "base_uri": "https://localhost:8080/",
          "height": 263
        },
        "id": "kYFkZ6bFa4CH",
        "outputId": "e8d55ca0-c1b5-4124-8562-2f030fece75b"
      },
      "source": [
        "plt.hist(my_dist_sampler(50))\n",
        "plt.show()\n"
      ],
      "execution_count": null,
      "outputs": [
        {
          "output_type": "display_data",
          "data": {
            "image/png": "[encoded data removed]",
            "text/plain": [
              "<Figure size 432x288 with 1 Axes>"
            ]
          },
          "metadata": {
            "needs_background": "light"
          }
        }
      ]
    },
    {
      "cell_type": "markdown",
      "metadata": {
        "id": "jEMxOMC-a6wJ"
      },
      "source": [
        "#### Now create a means sampler for this distribution and plot the distribution of means over 1000 samples of size 50\n",
        "\n",
        "#### Plot the distribution of the means and compare the theoretical and numerical confidence intervals."
      ]
    },
    {
      "cell_type": "markdown",
      "source": [
        ""
      ],
      "metadata": {
        "id": "Jo2g02x4v2Hc"
      }
    },
    {
      "cell_type": "code",
      "metadata": {
        "id": "vs_O4qKpbEWl"
      },
      "source": [
        "def mean_dist(n,n_rs):\n",
        "  means = [np.mean(my_dist_sampler(n=n)) for i in range(n_rs)]\n",
        "  return means, np.mean(means), np.std(means)\n"
      ],
      "execution_count": null,
      "outputs": []
    },
    {
      "cell_type": "code",
      "metadata": {
        "colab": {
          "base_uri": "https://localhost:8080/",
          "height": 280
        },
        "id": "myCuoyMabTx7",
        "outputId": "bb45a71d-144d-449c-9202-16b2e556bb6c"
      },
      "source": [
        "my_means, rs_mean, rs_sd = mean_dist(n=50, n_rs=10000)\n",
        "\n",
        "num_lcl = np.quantile(my_means, 0.025)\n",
        "num_ucl = np.quantile(my_means, 0.975)\n",
        "\n",
        "plt.hist(my_means)\n",
        "plt.axvline(rs_mean, color = 'k')\n",
        "plt.axvline(rs_mean - 1.96*rs_sd, color = 'k', linestyle=\"dashed\")\n",
        "plt.axvline(rs_mean + 1.96*rs_sd, color = 'k', linestyle=\"dashed\")\n",
        "plt.axvline(num_lcl, color = 'k', linestyle=\"dotted\")\n",
        "plt.axvline(num_ucl, color = 'k', linestyle=\"dotted\")"
      ],
      "execution_count": null,
      "outputs": [
        {
          "output_type": "execute_result",
          "data": {
            "text/plain": [
              "<matplotlib.lines.Line2D at 0x7f6e0f074510>"
            ]
          },
          "metadata": {},
          "execution_count": 28
        },
        {
          "output_type": "display_data",
          "data": {
            "image/png": "[encoded data removed]",
            "text/plain": [
              "<Figure size 432x288 with 1 Axes>"
            ]
          },
          "metadata": {
            "needs_background": "light"
          }
        }
      ]
    },
    {
      "cell_type": "markdown",
      "source": [
        "### Discussion Question 7: Does the CLT appear to be holding up in this example?"
      ],
      "metadata": {
        "id": "d96kel1Nv8Ue"
      }
    },
    {
      "cell_type": "code",
      "source": [
        "# Yes, it does.  The distribution appears to be normal and centered at the population mean."
      ],
      "metadata": {
        "id": "WM5WXdfpwFqE"
      },
      "execution_count": null,
      "outputs": []
    },
    {
      "cell_type": "markdown",
      "metadata": {
        "id": "niVqtcZpcSFq"
      },
      "source": [
        "### Another application of the CLT: The normal approximation of the binomial "
      ]
    },
    {
      "cell_type": "markdown",
      "metadata": {
        "id": "EB9Pf9Z4viNq"
      },
      "source": [
        "#### Now lets consider another application of the central limit theorem: the normal approximation for the binomial distribution. \n",
        "\n",
        "\n",
        "#### A general rule of thumb for the normal approximation of the binomial to hold is   $n*p > 5$ where $n$ is the number of trials and $p$ is the probability of success. \n",
        "\n",
        "## ## Discussion Question 8 : Why does the Binomial grow more \"normal\" as n gets larger (assume p is fixed)?\n",
        "\n"
      ]
    },
    {
      "cell_type": "code",
      "source": [
        "# Recall that a binomial can be viewed as a sum of bernoullis \n",
        "#  we'd therefore expect its behavior (scaled by 1/n) to be approximately normal\n",
        "\n",
        "\n",
        "# More explicitly, (\\sum_{i =1}^n X_i - np) /\\sqrt(n p(1-p)) = \\sqrt{n}(\\Xbar - p)/\\sqrt( p(1-p)) ~ N(0,1) by the CLT\n",
        "# So as n gets larger, the normality assumption is more likely to hold"
      ],
      "metadata": {
        "id": "PfMo3_jowyUk"
      },
      "execution_count": null,
      "outputs": []
    },
    {
      "cell_type": "markdown",
      "source": [
        "#### So, for our fair coin scenario, let's keep the number of samples at 1000 but make our parameters for the binomial p=0.5 and vary n. "
      ],
      "metadata": {
        "id": "MArkhmtpwylB"
      }
    },
    {
      "cell_type": "code",
      "metadata": {
        "id": "ozn-pkCxDI1Z"
      },
      "source": [
        "## sample data \n",
        "d1 = [heads_counter2(0.5, 1) for i in range(1000)]\n",
        "d3 = [heads_counter2(0.5, 3) for i in range(1000)]\n",
        "d5 = [heads_counter2(0.5, 5) for i in range(1000)]\n",
        "d10 = [heads_counter2(0.5, 10) for i in range(1000)]\n",
        "d50 = [heads_counter2(0.5, 50) for i in range(1000)]\n",
        "d100 = [heads_counter2(0.5, 100) for i in range(1000)]\n",
        "d500 = [heads_counter2(0.5, 500) for i in range(1000)]\n",
        "d1000 = [heads_counter2(0.5, 1000) for i in range(1000)]"
      ],
      "execution_count": null,
      "outputs": []
    },
    {
      "cell_type": "markdown",
      "metadata": {
        "id": "KpJ53akAvPky"
      },
      "source": [
        "####Next, plot the distribution of your sample values. Do they appear to grow more Gaussian?\n",
        "\n"
      ]
    },
    {
      "cell_type": "code",
      "metadata": {
        "colab": {
          "base_uri": "https://localhost:8080/",
          "height": 52
        },
        "id": "PsnGOT8rqG3g",
        "outputId": "73b7f3bb-6ed4-48cb-aa1a-1a80c5470530"
      },
      "source": [
        "## plot distributions\n",
        "\n",
        "fig, axs = plt.subplots(4, 2, figsize=(10,10))\n",
        "axs[0, 0].hist(d1)\n",
        "axs[0, 0].set_title('n=1')\n",
        "axs[0, 1].hist(d3)\n",
        "axs[0, 1].set_title('n=3')\n",
        "axs[1, 0].hist(d5)\n",
        "axs[1, 0].set_title('n=5')\n",
        "axs[1, 1].hist(d10)\n",
        "axs[1, 1].set_title('n=10')\n",
        "axs[2, 0].hist(d50)\n",
        "axs[2, 0].set_title('n=50')\n",
        "axs[2, 1].hist(d100)\n",
        "axs[2, 1].set_title('n=100')\n",
        "axs[3, 0].hist(d500)\n",
        "axs[3, 0].set_title('n=500')\n",
        "axs[3, 1].hist(d1000)\n",
        "axs[3, 1].set_title('n=1000')\n",
        "\n",
        "for ax in axs.flat:\n",
        "    ax.set(xlabel='sample values', ylabel='count')\n",
        "\n",
        "fig.tight_layout()\n",
        "\n",
        "plt.show()"
      ],
      "execution_count": null,
      "outputs": [
        {
          "output_type": "display_data",
          "data": {
            "image/png": "[encoded data removed]",
            "text/plain": [
              "<Figure size 720x720 with 8 Axes>"
            ]
          },
          "metadata": {
            "needs_background": "light"
          }
        }
      ]
    }
  ]
}
